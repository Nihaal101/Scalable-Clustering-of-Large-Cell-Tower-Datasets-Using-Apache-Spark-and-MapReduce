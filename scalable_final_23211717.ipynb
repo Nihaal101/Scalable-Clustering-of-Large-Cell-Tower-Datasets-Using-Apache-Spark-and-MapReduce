{
 "cells": [
  {
   "cell_type": "code",
   "execution_count": 1,
   "id": "a01ca41e-2b7e-479e-85e3-ecb21acfafa7",
   "metadata": {
    "tags": []
   },
   "outputs": [
    {
     "name": "stderr",
     "output_type": "stream",
     "text": [
      "24/08/16 11:30:14 WARN SparkSession: Using an existing Spark session; only runtime SQL configurations will take effect.\n"
     ]
    }
   ],
   "source": [
    "from pyspark.sql import SparkSession\n",
    "spark = SparkSession.builder \\\n",
    "    .appName(\"Asia Towers Analysis\") \\\n",
    "    .getOrCreate()\n"
   ]
  },
  {
   "cell_type": "code",
   "execution_count": 2,
   "id": "71e322e4-403a-4a7a-8aae-2135c44f20fa",
   "metadata": {
    "tags": []
   },
   "outputs": [
    {
     "name": "stderr",
     "output_type": "stream",
     "text": [
      "                                                                                \r"
     ]
    },
    {
     "name": "stdout",
     "output_type": "stream",
     "text": [
      "+--------+-----+---+---+---+---------+----+---------------+---------------+-----+----+----------+----------+----------+-------------+---------+-------+---------+\n",
      "|     _c0|radio|MCC|MNC|TAC|      CID|unit|            LON|            LAT|RANGE| SAM|changeable|   created|   updated|averageSignal|  Country|Network|Continent|\n",
      "+--------+-----+---+---+---+---------+----+---------------+---------------+-----+----+----------+----------+----------+-------------+---------+-------+---------+\n",
      "|12142742|  GSM|525|  1| 63|      452|   0|     103.827896|       1.431656| 1000|   3|         1|1459692344|1487379337|            0|Singapore|SingTel|     Asia|\n",
      "|12142743| UMTS|525|  1|315| 20666852|   0|     103.625793|       1.309433| 1000|   2|         1|1370464837|1370464837|            0|Singapore|SingTel|     Asia|\n",
      "|12142744|  GSM|525|  1| 63|     5143|   0|     103.838882|       1.425247| 1000|   3|         1|1380831294|1461549037|            0|Singapore|SingTel|     Asia|\n",
      "|12142745|  GSM|525|  1| 63|     5142|   0|     103.838775|       1.416006| 1000| 192|         1|1380831294|1483700507|            0|Singapore|SingTel|     Asia|\n",
      "|12142746|  GSM|525|  1| 63|     5171|   0| 103.8256072998|1.4261627197266| 1000|   1|         1|1459671632|1459671632|            0|Singapore|SingTel|     Asia|\n",
      "|12142747|  LTE|525|  1|748|187778823|   0|     103.744926|       1.336899| 1000|   4|         1|1460124881|1477153870|            0|Singapore|SingTel|     Asia|\n",
      "|12142748|  GSM|525|  1| 31|    10333|   0|     103.799515|       1.334702| 8605|   5|         1|1223482635|1223482635|            0|Singapore|SingTel|     Asia|\n",
      "|12142749| UMTS|525|  1|305| 20020472|   0|     103.780203|       1.337385| 8653|  48|         1|1223482646|1223482646|            0|Singapore|SingTel|     Asia|\n",
      "|12142750| UMTS|525|  1|305| 20020471|   0|     103.779723|       1.336818| 1000|  17|         1|1223482654|1223482654|            0|Singapore|SingTel|     Asia|\n",
      "|12142751| UMTS|525|  1|305| 20020513|   0|     103.780773|       1.336818| 1000|  17|         1|1223482654|1223482654|            0|Singapore|SingTel|     Asia|\n",
      "|12142752| UMTS|525|  1|305| 20020512|   0|     103.787704|       1.334921| 1000|  25|         1|1223482646|1223482646|            0|Singapore|SingTel|     Asia|\n",
      "|12142753| UMTS|525|  1|305| 20024773|   0|     103.793085|       1.332717| 1000|  22|         1|1223482646|1223482646|            0|Singapore|SingTel|     Asia|\n",
      "|12142754| UMTS|525|  1|305| 20020502|   0|103.79127502441|1.3327789306641| 1000|   1|         1|1223482591|1223482591|            0|Singapore|SingTel|     Asia|\n",
      "|12142755| UMTS|525|  1|303| 19888939|   0|     103.845602|        1.32009| 1000|  25|         1|1223502391|1238826249|            0|Singapore|SingTel|     Asia|\n",
      "|12142756| UMTS|525|  1|305| 20020793|   0|     103.782839|       1.302567| 1000|   7|         1|1223482599|1223482599|            0|Singapore|SingTel|     Asia|\n",
      "|12142757| UMTS|525|  1|305| 20020832|   0| 103.7816619873|1.3080596923828| 1000|   2|         1|1223482591|1223482591|            0|Singapore|SingTel|     Asia|\n",
      "|12142758| UMTS|525|  1|303| 19888961|   0|     103.845474|       1.325867| 1000|  30|         1|1223482624|1223482624|            0|Singapore|SingTel|     Asia|\n",
      "|12142759| UMTS|525|  1|303| 19888890|   0|     103.842655|       1.326315| 1000|  58|         1|1223482624|1223482624|            0|Singapore|SingTel|     Asia|\n",
      "|12142760| UMTS|525|  1|303| 19889250|   0|     103.837062|       1.326848| 1197|3525|         1|1223502392|1239107581|            0|Singapore|SingTel|     Asia|\n",
      "|12142761|  GSM|525|  1| 31|    10191|   0|     103.814621|       1.332779| 1000|   2|         1|1223482592|1223482592|            0|Singapore|SingTel|     Asia|\n",
      "+--------+-----+---+---+---+---------+----+---------------+---------------+-----+----+----------+----------+----------+-------------+---------+-------+---------+\n",
      "only showing top 20 rows\n",
      "\n"
     ]
    }
   ],
   "source": [
    "net_df = spark.read.csv(\"/user/dataproc/asia_towers.csv\", header=True, inferSchema=True)\n",
    "net_df.show()\n"
   ]
  },
  {
   "cell_type": "code",
   "execution_count": 3,
   "id": "e39397a8-50d5-4c3d-bdf3-0f4a952768e0",
   "metadata": {
    "tags": []
   },
   "outputs": [],
   "source": [
    "from pyspark.sql import SparkSession\n",
    "from pyspark.sql.types import StructType, StructField, StringType, IntegerType, FloatType, TimestampType\n",
    "from pyspark.sql.functions import dayofmonth, month, year\n",
    "from pyspark.sql.functions import count, when"
   ]
  },
  {
   "cell_type": "code",
   "execution_count": 4,
   "id": "ac80fc7a-12ab-44eb-b8ad-0b25cacad432",
   "metadata": {
    "tags": []
   },
   "outputs": [],
   "source": [
    "from pyspark.sql.functions import col\n",
    "\n",
    "net_df = net_df.withColumn(\"LON\", col(\"LON\").cast(\"float\"))\n",
    "net_df = net_df.withColumn(\"LAT\", col(\"LAT\").cast(\"float\"))\n",
    "net_df = net_df.withColumn(\"averageSignal\", col(\"averageSignal\").cast(\"float\"))"
   ]
  },
  {
   "cell_type": "code",
   "execution_count": 5,
   "id": "1b573cbc-ff6e-44e4-8bd4-3bba4dadcbe2",
   "metadata": {
    "tags": []
   },
   "outputs": [
    {
     "name": "stderr",
     "output_type": "stream",
     "text": [
      "                                                                                \r"
     ]
    },
    {
     "name": "stdout",
     "output_type": "stream",
     "text": [
      "+--------------------+----------+---------+-------------+----------+\n",
      "|            features|       LON|      LAT|averageSignal|prediction|\n",
      "+--------------------+----------+---------+-------------+----------+\n",
      "|[103.827896118164...|103.827896| 1.431656|          0.0|         0|\n",
      "|[103.625793457031...| 103.62579| 1.309433|          0.0|         0|\n",
      "|[103.838882446289...| 103.83888| 1.425247|          0.0|         0|\n",
      "|[103.838775634765...|103.838776| 1.416006|          0.0|         0|\n",
      "|[103.825607299804...| 103.82561|1.4261627|          0.0|         0|\n",
      "|[103.744926452636...| 103.74493| 1.336899|          0.0|         0|\n",
      "|[103.799514770507...|103.799515| 1.334702|          0.0|         0|\n",
      "|[103.780204772949...|103.780205| 1.337385|          0.0|         0|\n",
      "|[103.779724121093...|103.779724| 1.336818|          0.0|         0|\n",
      "|[103.780769348144...| 103.78077| 1.336818|          0.0|         0|\n",
      "|[103.787704467773...|103.787704| 1.334921|          0.0|         0|\n",
      "|[103.793083190917...| 103.79308| 1.332717|          0.0|         0|\n",
      "|[103.791275024414...|103.791275|1.3327789|          0.0|         0|\n",
      "|[103.845603942871...|103.845604|  1.32009|          0.0|         0|\n",
      "|[103.782836914062...| 103.78284| 1.302567|          0.0|         0|\n",
      "|[103.781661987304...| 103.78166|1.3080597|          0.0|         0|\n",
      "|[103.845474243164...|103.845474| 1.325867|          0.0|         0|\n",
      "|[103.842651367187...| 103.84265| 1.326315|          0.0|         0|\n",
      "|[103.837059020996...| 103.83706| 1.326848|          0.0|         0|\n",
      "|[103.814620971679...| 103.81462| 1.332779|          0.0|         0|\n",
      "+--------------------+----------+---------+-------------+----------+\n",
      "only showing top 20 rows\n",
      "\n"
     ]
    }
   ],
   "source": [
    "from pyspark.sql import SparkSession\n",
    "from pyspark.sql.functions import col\n",
    "from pyspark.ml.feature import VectorAssembler\n",
    "from pyspark.ml.clustering import KMeans\n",
    "from pyspark.ml.evaluation import ClusteringEvaluator\n",
    "\n",
    "net_df = net_df.withColumn(\"LON\", col(\"LON\").cast(\"float\"))\n",
    "net_df = net_df.withColumn(\"LAT\", col(\"LAT\").cast(\"float\"))\n",
    "net_df = net_df.withColumn(\"averageSignal\", col(\"averageSignal\").cast(\"float\"))\n",
    "\n",
    "# columns Longitude and Latitude\n",
    "data = net_df.select('LON', 'LAT', 'averageSignal')\n",
    "data = data.na.drop()\n",
    "\n",
    "# Features\n",
    "assembler = VectorAssembler(inputCols=['LON', 'LAT', 'averageSignal'], outputCol='features')\n",
    "data = assembler.transform(data)\n",
    "\n",
    "final_data = data.select('features', 'LON', 'LAT', 'averageSignal')\n",
    "kmeans = KMeans(k=3, seed=1)  # 3 clusters\n",
    "model = kmeans.fit(final_data)\n",
    "predictions = model.transform(final_data)\n",
    "predictions.show()\n"
   ]
  },
  {
   "cell_type": "code",
   "execution_count": 6,
   "id": "c5abc4e3-8fc0-45df-b132-02e80bf7a69c",
   "metadata": {
    "tags": []
   },
   "outputs": [
    {
     "name": "stderr",
     "output_type": "stream",
     "text": [
      "[Stage 32:===================================================>    (11 + 1) / 12]\r"
     ]
    },
    {
     "name": "stdout",
     "output_type": "stream",
     "text": [
      "Silhouette with squared euclidean distance = 0.728182380932545\n",
      "Cluster Centers: \n",
      "[117.71041976  20.98159884   0.        ]\n",
      "[53.90666525 31.81664544  0.        ]\n",
      "[40.62338249 54.85841798  0.        ]\n"
     ]
    },
    {
     "name": "stderr",
     "output_type": "stream",
     "text": [
      "                                                                                \r"
     ]
    }
   ],
   "source": [
    "\n",
    "from pyspark.ml.evaluation import ClusteringEvaluator\n",
    "evaluator = ClusteringEvaluator()\n",
    "\n",
    "silhouette = evaluator.evaluate(predictions)\n",
    "print(f\"Silhouette with squared euclidean distance = {silhouette}\")\n",
    "centers = model.clusterCenters()\n",
    "print(\"Cluster Centers: \")\n",
    "for center in centers:\n",
    "    print(center)\n"
   ]
  },
  {
   "cell_type": "code",
   "execution_count": null,
   "id": "bd05d8f1-dd98-4a19-9b09-0dd5814c3860",
   "metadata": {},
   "outputs": [],
   "source": []
  },
  {
   "cell_type": "code",
   "execution_count": 7,
   "id": "42dd617f-a50a-4a20-9900-86c764046f5f",
   "metadata": {
    "tags": []
   },
   "outputs": [
    {
     "name": "stderr",
     "output_type": "stream",
     "text": [
      "                                                                                \r"
     ]
    },
    {
     "name": "stdout",
     "output_type": "stream",
     "text": [
      "+--------------------+----------+---------+-------------+----------+\n",
      "|            features|       LON|      LAT|averageSignal|prediction|\n",
      "+--------------------+----------+---------+-------------+----------+\n",
      "|[103.827896118164...|103.827896| 1.431656|          0.0|         1|\n",
      "|[103.625793457031...| 103.62579| 1.309433|          0.0|         1|\n",
      "|[103.838882446289...| 103.83888| 1.425247|          0.0|         1|\n",
      "|[103.838775634765...|103.838776| 1.416006|          0.0|         1|\n",
      "|[103.825607299804...| 103.82561|1.4261627|          0.0|         1|\n",
      "|[103.744926452636...| 103.74493| 1.336899|          0.0|         1|\n",
      "|[103.799514770507...|103.799515| 1.334702|          0.0|         1|\n",
      "|[103.780204772949...|103.780205| 1.337385|          0.0|         1|\n",
      "|[103.779724121093...|103.779724| 1.336818|          0.0|         1|\n",
      "|[103.780769348144...| 103.78077| 1.336818|          0.0|         1|\n",
      "|[103.787704467773...|103.787704| 1.334921|          0.0|         1|\n",
      "|[103.793083190917...| 103.79308| 1.332717|          0.0|         1|\n",
      "|[103.791275024414...|103.791275|1.3327789|          0.0|         1|\n",
      "|[103.845603942871...|103.845604|  1.32009|          0.0|         1|\n",
      "|[103.782836914062...| 103.78284| 1.302567|          0.0|         1|\n",
      "|[103.781661987304...| 103.78166|1.3080597|          0.0|         1|\n",
      "|[103.845474243164...|103.845474| 1.325867|          0.0|         1|\n",
      "|[103.842651367187...| 103.84265| 1.326315|          0.0|         1|\n",
      "|[103.837059020996...| 103.83706| 1.326848|          0.0|         1|\n",
      "|[103.814620971679...| 103.81462| 1.332779|          0.0|         1|\n",
      "+--------------------+----------+---------+-------------+----------+\n",
      "only showing top 20 rows\n",
      "\n"
     ]
    },
    {
     "name": "stderr",
     "output_type": "stream",
     "text": [
      "[Stage 124:=============================================>         (10 + 2) / 12]\r"
     ]
    },
    {
     "name": "stdout",
     "output_type": "stream",
     "text": [
      "Silhouette Score: 0.778049013432422\n"
     ]
    },
    {
     "name": "stderr",
     "output_type": "stream",
     "text": [
      "                                                                                \r"
     ]
    }
   ],
   "source": [
    "from pyspark.sql import SparkSession\n",
    "from pyspark.sql.functions import col\n",
    "from pyspark.ml.feature import VectorAssembler\n",
    "from pyspark.ml.clustering import BisectingKMeans\n",
    "from pyspark.ml.evaluation import ClusteringEvaluator\n",
    "net_df = net_df.withColumn(\"LON\", col(\"LON\").cast(\"float\"))\n",
    "net_df = net_df.withColumn(\"LAT\", col(\"LAT\").cast(\"float\"))\n",
    "net_df = net_df.withColumn(\"averageSignal\", col(\"averageSignal\").cast(\"float\"))\n",
    "\n",
    "\n",
    "data = net_df.select('LON', 'LAT', 'averageSignal')\n",
    "data = data.na.drop()\n",
    "assembler = VectorAssembler(inputCols=['LON', 'LAT', 'averageSignal'], outputCol='features')\n",
    "data = assembler.transform(data)\n",
    "final_data = data.select('features', 'LON', 'LAT', 'averageSignal')\n",
    "\n",
    "bisecting_kmeans = BisectingKMeans(k=3, seed=1)  # 3 clusters\n",
    "model = bisecting_kmeans.fit(final_data)\n",
    "predictions = model.transform(final_data)\n",
    "\n",
    "predictions.show()\n",
    "\n",
    "evaluator = ClusteringEvaluator()\n",
    "silhouette_score = evaluator.evaluate(predictions)\n",
    "print(f\"Silhouette Score: {silhouette_score}\")\n"
   ]
  },
  {
   "cell_type": "code",
   "execution_count": null,
   "id": "6ace98b8-be93-44a5-b1be-cefa598ef262",
   "metadata": {},
   "outputs": [],
   "source": []
  },
  {
   "cell_type": "code",
   "execution_count": 8,
   "id": "66f35366-548b-4c5e-81e0-5f3a6936caf0",
   "metadata": {
    "tags": []
   },
   "outputs": [
    {
     "name": "stderr",
     "output_type": "stream",
     "text": [
      "[Stage 129:==================================================>    (11 + 1) / 12]\r"
     ]
    },
    {
     "name": "stdout",
     "output_type": "stream",
     "text": [
      "Silhouette with squared euclidean distance = 0.7780490134324222\n",
      "Cluster Centers: \n",
      "[47.13002998 42.99370208  0.        ]\n",
      "[105.85523584   8.28632877   0.        ]\n",
      "[130.03335306  34.69222654   0.        ]\n"
     ]
    },
    {
     "name": "stderr",
     "output_type": "stream",
     "text": [
      "                                                                                \r"
     ]
    }
   ],
   "source": [
    "from pyspark.ml.evaluation import ClusteringEvaluator\n",
    "evaluator = ClusteringEvaluator()\n",
    "\n",
    "silhouette = evaluator.evaluate(predictions)\n",
    "print(f\"Silhouette with squared euclidean distance = {silhouette}\")\n",
    "\n",
    "centers = model.clusterCenters()\n",
    "print(\"Cluster Centers: \")\n",
    "for center in centers:\n",
    "    print(center)\n",
    "\n"
   ]
  },
  {
   "cell_type": "code",
   "execution_count": null,
   "id": "c1f34dfb-e119-4274-976a-2b8e3fd1b0a0",
   "metadata": {
    "tags": []
   },
   "outputs": [],
   "source": []
  },
  {
   "cell_type": "code",
   "execution_count": null,
   "id": "4ccc704f-0899-4785-aac3-bd1ff36e80e0",
   "metadata": {
    "tags": []
   },
   "outputs": [],
   "source": []
  },
  {
   "cell_type": "code",
   "execution_count": 6,
   "id": "a6af7452-cf26-435a-9897-3199e14233d6",
   "metadata": {
    "tags": []
   },
   "outputs": [
    {
     "name": "stderr",
     "output_type": "stream",
     "text": [
      "[Stage 35:===================================================>    (11 + 1) / 12]\r"
     ]
    },
    {
     "name": "stdout",
     "output_type": "stream",
     "text": [
      "+----------+-------+\n",
      "|prediction|  count|\n",
      "+----------+-------+\n",
      "|         1|2170178|\n",
      "|         2|1886018|\n",
      "|         0|9319793|\n",
      "+----------+-------+\n",
      "\n"
     ]
    },
    {
     "name": "stderr",
     "output_type": "stream",
     "text": [
      "                                                                                \r"
     ]
    }
   ],
   "source": [
    "cluster_distribution = predictions.groupBy(\"prediction\").count()\n",
    "cluster_distribution.show()"
   ]
  },
  {
   "cell_type": "code",
   "execution_count": null,
   "id": "3770016c-e03e-45e0-8a0e-d7ed1cd7938a",
   "metadata": {},
   "outputs": [],
   "source": []
  },
  {
   "cell_type": "code",
   "execution_count": 11,
   "id": "d9e28be3-85a3-4ced-a6ff-1f18b65f3cb2",
   "metadata": {
    "tags": []
   },
   "outputs": [
    {
     "name": "stderr",
     "output_type": "stream",
     "text": [
      "[Stage 38:===================================================>    (11 + 1) / 12]\r"
     ]
    },
    {
     "name": "stdout",
     "output_type": "stream",
     "text": [
      "+-----------+-----------+------------------+\n",
      "|rounded_LON|rounded_LAT|        avg(RANGE)|\n",
      "+-----------+-----------+------------------+\n",
      "|       98.9|        3.6| 1272.960244648318|\n",
      "|      107.7|       -7.3|            1000.0|\n",
      "|       98.7|        1.7|            1000.0|\n",
      "|      113.9|       -1.3|           1248.75|\n",
      "|      116.9|       -1.0|2376.6666666666665|\n",
      "|      118.8|       -8.4|            1000.0|\n",
      "|       68.5|       43.5|1031.6797385620914|\n",
      "|       75.9|       43.6|            1000.0|\n",
      "|       69.4|       43.3|           4475.25|\n",
      "|      113.0|       28.5|            1115.2|\n",
      "|      117.5|       35.6|            1000.0|\n",
      "|      106.8|       30.3|            1000.0|\n",
      "|      105.1|       25.6|            1000.0|\n",
      "|      119.2|       30.2|1018.6153846153846|\n",
      "|      118.5|       35.1|            1000.0|\n",
      "|       82.3|       44.5|            2762.0|\n",
      "|      110.0|       32.3|            1000.0|\n",
      "|       37.6|       56.4|1671.2953367875648|\n",
      "|       38.1|       53.2|2731.0779220779223|\n",
      "|       45.3|       43.2|            1692.0|\n",
      "+-----------+-----------+------------------+\n",
      "only showing top 20 rows\n",
      "\n"
     ]
    },
    {
     "name": "stderr",
     "output_type": "stream",
     "text": [
      "                                                                                \r"
     ]
    }
   ],
   "source": [
    "from pyspark.sql.functions import col, round as spark_round\n",
    "net_df = net_df.filter(net_df.LON.isNotNull() & net_df.LAT.isNotNull() & net_df.RANGE.isNotNull())\n",
    "\n",
    "\n",
    "net_df = net_df.withColumn(\"rounded_LON\", spark_round(net_df.LON, 1))\n",
    "net_df = net_df.withColumn(\"rounded_LAT\", spark_round(net_df.LAT, 1))\n",
    "\n",
    "range_by_area = net_df.groupBy(\"rounded_LON\", \"rounded_LAT\").avg(\"RANGE\")\n",
    "range_by_area.show()"
   ]
  },
  {
   "cell_type": "code",
   "execution_count": null,
   "id": "3a01044e-acd9-441f-adc5-1a6e8356ee00",
   "metadata": {},
   "outputs": [],
   "source": []
  },
  {
   "cell_type": "code",
   "execution_count": 14,
   "id": "2c6827db-91a8-441d-a575-485788f31b95",
   "metadata": {
    "tags": []
   },
   "outputs": [
    {
     "name": "stderr",
     "output_type": "stream",
     "text": [
      "[Stage 55:===================================================>    (11 + 1) / 12]\r"
     ]
    },
    {
     "name": "stdout",
     "output_type": "stream",
     "text": [
      "Radio Technology Distribution:\n",
      "GSM: 2541259\n",
      "NR: 20743\n",
      "UMTS: 5703346\n",
      "CDMA: 5245\n",
      "LTE: 5105396\n",
      "------------------------------------------------------------------\n",
      "Average Time Difference (seconds) by Radio Technology:\n",
      "GSM: 1466390316.0788128\n",
      "NR: 1701107005.4001832\n",
      "UMTS: 1469507735.909973\n",
      "CDMA: 1414208006.8806481\n",
      "LTE: 1534000192.7756891\n"
     ]
    },
    {
     "name": "stderr",
     "output_type": "stream",
     "text": [
      "                                                                                \r"
     ]
    }
   ],
   "source": [
    "data_path = '/user/dataproc/asia_towers.csv'\n",
    "rdd = sc.textFile(data_path)\n",
    "\n",
    "header = rdd.first()\n",
    "\n",
    "rdd = rdd.filter(lambda line: line != header).map(lambda line: line.split(','))\n",
    "\n",
    "def map_radio_technology(line):\n",
    "    return (line[1], 1)  # RadioTechnology\n",
    "\n",
    "def reduce_count(a, b):\n",
    "    return a + b\n",
    "\n",
    "radio_tech_distribution = rdd.map(map_radio_technology).reduceByKey(reduce_count).collect()\n",
    "\n",
    "def map_time_difference(line):\n",
    "    try:\n",
    "        created = float(line[11])  #  timestamp at index 11\n",
    "        updated = float(line[12])  #  timestamp at index 12\n",
    "        return (line[1], (updated - created, 1)) \n",
    "    except ValueError:\n",
    "        return (line[1], (0, 0))\n",
    "\n",
    "def reduce_time_differences(a, b):\n",
    "    total_diff = a[0] + b[0]  \n",
    "    count = a[1] + b[1]  \n",
    "    return (total_diff, count)\n",
    "\n",
    "time_diff_totals = rdd.map(map_time_difference).reduceByKey(reduce_time_differences)\n",
    "\n",
    "average_time_diff = time_diff_totals.mapValues(lambda x: x[0] / x[1] if x[1] != 0 else 0).collect()\n",
    "\n",
    "print(\"Radio Technology Distribution:\")\n",
    "for tech, count in radio_tech_distribution:\n",
    "    print(f\"{tech}: {count}\")\n",
    "\n",
    "print('------------------------------------------------------------------')\n",
    "\n",
    "print(\"Average Time Difference (seconds) by Radio Technology:\")\n",
    "for tech, avg_diff in average_time_diff:\n",
    "    print(f\"{tech}: {avg_diff}\")\n",
    "\n",
    "\n"
   ]
  },
  {
   "cell_type": "code",
   "execution_count": 16,
   "id": "6fcb4465-31a7-417d-a63b-c11e4d94c01a",
   "metadata": {
    "tags": []
   },
   "outputs": [
    {
     "name": "stderr",
     "output_type": "stream",
     "text": [
      "[Stage 56:===================================================>    (11 + 1) / 12]\r"
     ]
    },
    {
     "name": "stdout",
     "output_type": "stream",
     "text": [
      "+-----+-------+\n",
      "|month|  count|\n",
      "+-----+-------+\n",
      "|    1| 900332|\n",
      "|    2| 903108|\n",
      "|    3|1133696|\n",
      "|    4|1393691|\n",
      "|    5|1648922|\n",
      "|    6| 615985|\n",
      "|    7| 710857|\n",
      "|    8| 948461|\n",
      "|    9|2587132|\n",
      "|   10| 861681|\n",
      "|   11| 803811|\n",
      "|   12| 868313|\n",
      "+-----+-------+\n",
      "\n"
     ]
    },
    {
     "name": "stderr",
     "output_type": "stream",
     "text": [
      "                                                                                \r"
     ]
    }
   ],
   "source": [
    "from pyspark.sql.functions import from_unixtime, to_date, month\n",
    "net_df = net_df.withColumn(\"update_date\", to_date(from_unixtime(col(\"updated\"))))\n",
    "\n",
    "update_patterns = net_df.groupBy(month(\"update_date\").alias(\"month\")).count().orderBy(\"month\")\n",
    "update_patterns.show()"
   ]
  },
  {
   "cell_type": "code",
   "execution_count": null,
   "id": "0779e058-637f-4d1a-a24b-36a7fc89c619",
   "metadata": {},
   "outputs": [],
   "source": []
  }
 ],
 "metadata": {
  "kernelspec": {
   "display_name": "PySpark",
   "language": "python",
   "name": "pyspark"
  },
  "language_info": {
   "codemirror_mode": {
    "name": "ipython",
    "version": 3
   },
   "file_extension": ".py",
   "mimetype": "text/x-python",
   "name": "python",
   "nbconvert_exporter": "python",
   "pygments_lexer": "ipython3",
   "version": "3.11.8"
  }
 },
 "nbformat": 4,
 "nbformat_minor": 5
}
